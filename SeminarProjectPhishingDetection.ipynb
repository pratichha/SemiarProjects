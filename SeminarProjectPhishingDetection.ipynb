{
  "nbformat": 4,
  "nbformat_minor": 0,
  "metadata": {
    "colab": {
      "name": "SeminarProjectPhishingDetection",
      "provenance": [],
      "collapsed_sections": [],
      "authorship_tag": "ABX9TyMd0dPSbjKoLvEfuKTycKyU",
      "include_colab_link": true
    },
    "kernelspec": {
      "name": "python3",
      "display_name": "Python 3"
    }
  },
  "cells": [
    {
      "cell_type": "markdown",
      "metadata": {
        "id": "view-in-github",
        "colab_type": "text"
      },
      "source": [
        "<a href=\"https://colab.research.google.com/github/pratichha/SemiarProjects/blob/main/SeminarProjectPhishingDetection.ipynb\" target=\"_parent\"><img src=\"https://colab.research.google.com/assets/colab-badge.svg\" alt=\"Open In Colab\"/></a>"
      ]
    },
    {
      "cell_type": "markdown",
      "metadata": {
        "id": "oDbii1VZEjga"
      },
      "source": [
        "**Seminar Project On Phishing Detection using python and machine learning**."
      ]
    },
    {
      "cell_type": "markdown",
      "metadata": {
        "id": "jRpPy_dHEiKS"
      },
      "source": [
        "First get important libaries and data from public repo ."
      ]
    },
    {
      "cell_type": "markdown",
      "metadata": {
        "id": "fFaTYlzOEqEn"
      },
      "source": [
        "In below code section import necessary libaries to analysis data."
      ]
    },
    {
      "cell_type": "code",
      "metadata": {
        "id": "RphyUbS5EguT"
      },
      "source": [
        "#importing important libaries\n",
        "import numpy as np\n",
        "import pandas as pd\n",
        "import matplotlib.pyplot as plt\n"
      ],
      "execution_count": 1,
      "outputs": []
    },
    {
      "cell_type": "code",
      "metadata": {
        "id": "9PhaSnzvFTuZ"
      },
      "source": [
        "#upload datasets that is for this seminar I had obtain data from public repo.\n",
        "good_data = pd.read_csv(\"https://raw.githubusercontent.com/pratichha/SemiarProjects/main/Phis_data.csv\")\n",
        "phish_data = pd.read_csv(\"https://raw.githubusercontent.com/pratichha/SemiarProjects/main/good_data.csv\")\n",
        "#concatenat datasets so machine will learn about data and do research\n",
        "df_concat = pd.concat([good_data, phish_data],ignore_index=True)"
      ],
      "execution_count": 2,
      "outputs": []
    },
    {
      "cell_type": "code",
      "metadata": {
        "id": "XcIDrTCjF2m6",
        "outputId": "dfacdc6c-3c27-4c16-a837-52553c442e31",
        "colab": {
          "base_uri": "https://localhost:8080/",
          "height": 221
        }
      },
      "source": [
        "df_concat.head()"
      ],
      "execution_count": 3,
      "outputs": [
        {
          "output_type": "execute_result",
          "data": {
            "text/html": [
              "<div>\n",
              "<style scoped>\n",
              "    .dataframe tbody tr th:only-of-type {\n",
              "        vertical-align: middle;\n",
              "    }\n",
              "\n",
              "    .dataframe tbody tr th {\n",
              "        vertical-align: top;\n",
              "    }\n",
              "\n",
              "    .dataframe thead th {\n",
              "        text-align: right;\n",
              "    }\n",
              "</style>\n",
              "<table border=\"1\" class=\"dataframe\">\n",
              "  <thead>\n",
              "    <tr style=\"text-align: right;\">\n",
              "      <th></th>\n",
              "      <th>Unnamed: 0</th>\n",
              "      <th>@ in URLs</th>\n",
              "      <th>Attachments</th>\n",
              "      <th>Css</th>\n",
              "      <th>Encoding</th>\n",
              "      <th>External Resources</th>\n",
              "      <th>Flash content</th>\n",
              "      <th>HTML content</th>\n",
              "      <th>Html Form</th>\n",
              "      <th>Html iFrame</th>\n",
              "      <th>IPs in URLs</th>\n",
              "      <th>Javascript</th>\n",
              "      <th>Phishy</th>\n",
              "      <th>URLs</th>\n",
              "    </tr>\n",
              "  </thead>\n",
              "  <tbody>\n",
              "    <tr>\n",
              "      <th>0</th>\n",
              "      <td>0</td>\n",
              "      <td>False</td>\n",
              "      <td>0</td>\n",
              "      <td>0</td>\n",
              "      <td>none</td>\n",
              "      <td>0</td>\n",
              "      <td>False</td>\n",
              "      <td>True</td>\n",
              "      <td>False</td>\n",
              "      <td>False</td>\n",
              "      <td>False</td>\n",
              "      <td>0</td>\n",
              "      <td>True</td>\n",
              "      <td>2</td>\n",
              "    </tr>\n",
              "    <tr>\n",
              "      <th>1</th>\n",
              "      <td>1</td>\n",
              "      <td>False</td>\n",
              "      <td>0</td>\n",
              "      <td>0</td>\n",
              "      <td>none</td>\n",
              "      <td>0</td>\n",
              "      <td>False</td>\n",
              "      <td>True</td>\n",
              "      <td>False</td>\n",
              "      <td>False</td>\n",
              "      <td>False</td>\n",
              "      <td>0</td>\n",
              "      <td>True</td>\n",
              "      <td>2</td>\n",
              "    </tr>\n",
              "    <tr>\n",
              "      <th>2</th>\n",
              "      <td>2</td>\n",
              "      <td>False</td>\n",
              "      <td>0</td>\n",
              "      <td>0</td>\n",
              "      <td>none</td>\n",
              "      <td>0</td>\n",
              "      <td>False</td>\n",
              "      <td>True</td>\n",
              "      <td>False</td>\n",
              "      <td>False</td>\n",
              "      <td>True</td>\n",
              "      <td>0</td>\n",
              "      <td>True</td>\n",
              "      <td>29</td>\n",
              "    </tr>\n",
              "    <tr>\n",
              "      <th>3</th>\n",
              "      <td>3</td>\n",
              "      <td>False</td>\n",
              "      <td>0</td>\n",
              "      <td>0</td>\n",
              "      <td>none</td>\n",
              "      <td>0</td>\n",
              "      <td>False</td>\n",
              "      <td>True</td>\n",
              "      <td>False</td>\n",
              "      <td>False</td>\n",
              "      <td>False</td>\n",
              "      <td>0</td>\n",
              "      <td>True</td>\n",
              "      <td>2</td>\n",
              "    </tr>\n",
              "    <tr>\n",
              "      <th>4</th>\n",
              "      <td>4</td>\n",
              "      <td>False</td>\n",
              "      <td>0</td>\n",
              "      <td>0</td>\n",
              "      <td>7bit</td>\n",
              "      <td>0</td>\n",
              "      <td>False</td>\n",
              "      <td>True</td>\n",
              "      <td>False</td>\n",
              "      <td>False</td>\n",
              "      <td>False</td>\n",
              "      <td>0</td>\n",
              "      <td>True</td>\n",
              "      <td>20</td>\n",
              "    </tr>\n",
              "  </tbody>\n",
              "</table>\n",
              "</div>"
            ],
            "text/plain": [
              "   Unnamed: 0  @ in URLs  Attachments  ...  Javascript Phishy  URLs\n",
              "0           0      False            0  ...           0   True     2\n",
              "1           1      False            0  ...           0   True     2\n",
              "2           2      False            0  ...           0   True    29\n",
              "3           3      False            0  ...           0   True     2\n",
              "4           4      False            0  ...           0   True    20\n",
              "\n",
              "[5 rows x 14 columns]"
            ]
          },
          "metadata": {
            "tags": []
          },
          "execution_count": 3
        }
      ]
    },
    {
      "cell_type": "markdown",
      "metadata": {
        "id": "jxtMShViGViY"
      },
      "source": [
        "# Datasets description\n",
        "**@ in URL:** Detects the presenc of the \"@\" character in URLs.\n",
        "\n",
        "**Number of Attachments:** Detects the number of attachments present in the email. \n",
        "\n",
        "**Css in header:** Detects the number of Css links in the emails’ body, under the head tag in the html message.\n",
        "\n",
        "**External Resources:** Detects the number of external resources linked in the body of the email. \n",
        "\n",
        "**Flash content:** Detects the presence of flash content in the body of the email. \n",
        "\n",
        "**HTML content:** Detects the presence of HTML content. \n",
        "\n",
        "**Html Form:** Detects the presence of HTML Forms. \n",
        "\n",
        "**Html iFrame:** Detects the presence of HTML iFrames.\n",
        "\n",
        "**IPs in URLs:** Detects the presence of IPs in URLS, instead of human readable domain names. \n",
        "\n",
        "**Javascript blocks:** Detects the number of Javascript blocks inside the email’s body.\n",
        "\n",
        "**URLs:** Detects the number of URLS in the email."
      ]
    },
    {
      "cell_type": "code",
      "metadata": {
        "id": "1TrOtluZGsVe",
        "outputId": "49c76889-32cb-4b2e-8235-51ef62283fb5",
        "colab": {
          "base_uri": "https://localhost:8080/",
          "height": 34
        }
      },
      "source": [
        "df_concat.shape"
      ],
      "execution_count": 4,
      "outputs": [
        {
          "output_type": "execute_result",
          "data": {
            "text/plain": [
              "(4534, 14)"
            ]
          },
          "metadata": {
            "tags": []
          },
          "execution_count": 4
        }
      ]
    },
    {
      "cell_type": "code",
      "metadata": {
        "id": "i9v0dAerGxac",
        "outputId": "f296b9e8-cf59-453e-ec94-01a2abf2df70",
        "colab": {
          "base_uri": "https://localhost:8080/",
          "height": 272
        }
      },
      "source": [
        "df_concat.isnull().sum()"
      ],
      "execution_count": 5,
      "outputs": [
        {
          "output_type": "execute_result",
          "data": {
            "text/plain": [
              "Unnamed: 0            0\n",
              "@ in URLs             0\n",
              "Attachments           0\n",
              "Css                   0\n",
              "Encoding              0\n",
              "External Resources    0\n",
              "Flash content         0\n",
              "HTML content          0\n",
              "Html Form             0\n",
              "Html iFrame           0\n",
              "IPs in URLs           0\n",
              "Javascript            0\n",
              "Phishy                0\n",
              "URLs                  0\n",
              "dtype: int64"
            ]
          },
          "metadata": {
            "tags": []
          },
          "execution_count": 5
        }
      ]
    },
    {
      "cell_type": "markdown",
      "metadata": {
        "id": "wCo-wqyRG5Ok"
      },
      "source": [
        "**Perform necessary EDA and data preprocessing on given datasets**\n"
      ]
    },
    {
      "cell_type": "code",
      "metadata": {
        "id": "r0jNq62zKtsN"
      },
      "source": [
        "df_concat.drop(['Unnamed: 0'], axis=1,inplace = True)"
      ],
      "execution_count": 6,
      "outputs": []
    },
    {
      "cell_type": "code",
      "metadata": {
        "id": "tLFCuMGjHDR0",
        "outputId": "122a56b2-922b-4c7d-e00b-f19f71a11345",
        "colab": {
          "base_uri": "https://localhost:8080/",
          "height": 357
        }
      },
      "source": [
        "df_concat.info()"
      ],
      "execution_count": 7,
      "outputs": [
        {
          "output_type": "stream",
          "text": [
            "<class 'pandas.core.frame.DataFrame'>\n",
            "RangeIndex: 4534 entries, 0 to 4533\n",
            "Data columns (total 13 columns):\n",
            " #   Column              Non-Null Count  Dtype \n",
            "---  ------              --------------  ----- \n",
            " 0   @ in URLs           4534 non-null   bool  \n",
            " 1   Attachments         4534 non-null   int64 \n",
            " 2   Css                 4534 non-null   int64 \n",
            " 3   Encoding            4534 non-null   object\n",
            " 4   External Resources  4534 non-null   int64 \n",
            " 5   Flash content       4534 non-null   bool  \n",
            " 6   HTML content        4534 non-null   bool  \n",
            " 7   Html Form           4534 non-null   bool  \n",
            " 8   Html iFrame         4534 non-null   bool  \n",
            " 9   IPs in URLs         4534 non-null   bool  \n",
            " 10  Javascript          4534 non-null   int64 \n",
            " 11  Phishy              4534 non-null   bool  \n",
            " 12  URLs                4534 non-null   int64 \n",
            "dtypes: bool(7), int64(5), object(1)\n",
            "memory usage: 243.7+ KB\n"
          ],
          "name": "stdout"
        }
      ]
    },
    {
      "cell_type": "code",
      "metadata": {
        "id": "U5O0fJchHSQu",
        "outputId": "ceec2259-6ec0-44b5-cbd9-55d929996825",
        "colab": {
          "base_uri": "https://localhost:8080/",
          "height": 68
        }
      },
      "source": [
        "df_concat['Phishy'].value_counts()"
      ],
      "execution_count": 8,
      "outputs": [
        {
          "output_type": "execute_result",
          "data": {
            "text/plain": [
              "True     2278\n",
              "False    2256\n",
              "Name: Phishy, dtype: int64"
            ]
          },
          "metadata": {
            "tags": []
          },
          "execution_count": 8
        }
      ]
    },
    {
      "cell_type": "code",
      "metadata": {
        "id": "2Gc7caJGHbpn",
        "outputId": "8c96b1ce-d1aa-46f3-f744-c2472b74fa7a",
        "colab": {
          "base_uri": "https://localhost:8080/",
          "height": 311
        }
      },
      "source": [
        "count=df_concat.value_counts(df_concat[\"Phishy\"], sort= True)\n",
        "count.plot(kind= 'bar', color= [\"green\", \"red\"])\n",
        "plt.title('Bar chart')\n",
        "plt.xlabel('Phishy')\n",
        "plt.ylabel('counts')\n",
        "plt.show()"
      ],
      "execution_count": 9,
      "outputs": [
        {
          "output_type": "display_data",
          "data": {
            "image/png": "[encoded data removed]",
            "text/plain": [
              "<Figure size 432x288 with 1 Axes>"
            ]
          },
          "metadata": {
            "tags": [],
            "needs_background": "light"
          }
        }
      ]
    },
    {
      "cell_type": "code",
      "metadata": {
        "id": "hOvE701bIZ5Z"
      },
      "source": [
        "#preprocessing datasets\n",
        "from sklearn.preprocessing import LabelEncoder\n",
        "le = LabelEncoder()\n",
        "le.fit(df_concat.Encoding)\n",
        "df_concat.Encoding = le.transform(df_concat.Encoding)\n",
        "\n",
        "df_concat = df_concat.astype(int)\n",
        "\n",
        "df_concat.head()\n",
        "\n",
        "feature_cols = [\"@ in URLs\", \"Attachments\", \"Css\", \"Encoding\", \"External Resources\", \"Flash content\", \"HTML content\",\n",
        "                \"Html Form\", \"Html iFrame\", \"IPs in URLs\", \"Javascript\", \"URLs\"]\n",
        "X = df_concat[feature_cols]  # Features\n",
        "y = df_concat.Phishy  # Target variable"
      ],
      "execution_count": 10,
      "outputs": []
    },
    {
      "cell_type": "code",
      "metadata": {
        "id": "hxJB-JoEHw_n"
      },
      "source": [
        "#for plotting histogram\n",
        "#df_concat.hist(bins=70,figsize=(30,10))\n",
        "#plt.show()"
      ],
      "execution_count": 11,
      "outputs": []
    },
    {
      "cell_type": "code",
      "metadata": {
        "id": "qOlabCguJnMI",
        "outputId": "a4e3c051-5c4e-40c9-c3d3-f172f93de920",
        "colab": {
          "base_uri": "https://localhost:8080/",
          "height": 334
        }
      },
      "source": [
        "df_concat.describe()"
      ],
      "execution_count": 12,
      "outputs": [
        {
          "output_type": "execute_result",
          "data": {
            "text/html": [
              "<div>\n",
              "<style scoped>\n",
              "    .dataframe tbody tr th:only-of-type {\n",
              "        vertical-align: middle;\n",
              "    }\n",
              "\n",
              "    .dataframe tbody tr th {\n",
              "        vertical-align: top;\n",
              "    }\n",
              "\n",
              "    .dataframe thead th {\n",
              "        text-align: right;\n",
              "    }\n",
              "</style>\n",
              "<table border=\"1\" class=\"dataframe\">\n",
              "  <thead>\n",
              "    <tr style=\"text-align: right;\">\n",
              "      <th></th>\n",
              "      <th>@ in URLs</th>\n",
              "      <th>Attachments</th>\n",
              "      <th>Css</th>\n",
              "      <th>Encoding</th>\n",
              "      <th>External Resources</th>\n",
              "      <th>Flash content</th>\n",
              "      <th>HTML content</th>\n",
              "      <th>Html Form</th>\n",
              "      <th>Html iFrame</th>\n",
              "      <th>IPs in URLs</th>\n",
              "      <th>Javascript</th>\n",
              "      <th>Phishy</th>\n",
              "      <th>URLs</th>\n",
              "    </tr>\n",
              "  </thead>\n",
              "  <tbody>\n",
              "    <tr>\n",
              "      <th>count</th>\n",
              "      <td>4534.000000</td>\n",
              "      <td>4534.000000</td>\n",
              "      <td>4534.000000</td>\n",
              "      <td>4534.000000</td>\n",
              "      <td>4534.000000</td>\n",
              "      <td>4534.000000</td>\n",
              "      <td>4534.000000</td>\n",
              "      <td>4534.000000</td>\n",
              "      <td>4534.000000</td>\n",
              "      <td>4534.000000</td>\n",
              "      <td>4534.000000</td>\n",
              "      <td>4534.000000</td>\n",
              "      <td>4534.000000</td>\n",
              "    </tr>\n",
              "    <tr>\n",
              "      <th>mean</th>\n",
              "      <td>0.000221</td>\n",
              "      <td>0.030216</td>\n",
              "      <td>0.018747</td>\n",
              "      <td>1.290031</td>\n",
              "      <td>0.011689</td>\n",
              "      <td>0.001544</td>\n",
              "      <td>0.485002</td>\n",
              "      <td>0.029996</td>\n",
              "      <td>0.000662</td>\n",
              "      <td>0.063520</td>\n",
              "      <td>0.018527</td>\n",
              "      <td>0.502426</td>\n",
              "      <td>3.734671</td>\n",
              "    </tr>\n",
              "    <tr>\n",
              "      <th>std</th>\n",
              "      <td>0.014851</td>\n",
              "      <td>0.171200</td>\n",
              "      <td>0.257003</td>\n",
              "      <td>2.243092</td>\n",
              "      <td>0.220492</td>\n",
              "      <td>0.039266</td>\n",
              "      <td>0.499830</td>\n",
              "      <td>0.170594</td>\n",
              "      <td>0.025717</td>\n",
              "      <td>0.243923</td>\n",
              "      <td>0.322152</td>\n",
              "      <td>0.500049</td>\n",
              "      <td>10.728565</td>\n",
              "    </tr>\n",
              "    <tr>\n",
              "      <th>min</th>\n",
              "      <td>0.000000</td>\n",
              "      <td>0.000000</td>\n",
              "      <td>0.000000</td>\n",
              "      <td>0.000000</td>\n",
              "      <td>0.000000</td>\n",
              "      <td>0.000000</td>\n",
              "      <td>0.000000</td>\n",
              "      <td>0.000000</td>\n",
              "      <td>0.000000</td>\n",
              "      <td>0.000000</td>\n",
              "      <td>0.000000</td>\n",
              "      <td>0.000000</td>\n",
              "      <td>0.000000</td>\n",
              "    </tr>\n",
              "    <tr>\n",
              "      <th>25%</th>\n",
              "      <td>0.000000</td>\n",
              "      <td>0.000000</td>\n",
              "      <td>0.000000</td>\n",
              "      <td>0.000000</td>\n",
              "      <td>0.000000</td>\n",
              "      <td>0.000000</td>\n",
              "      <td>0.000000</td>\n",
              "      <td>0.000000</td>\n",
              "      <td>0.000000</td>\n",
              "      <td>0.000000</td>\n",
              "      <td>0.000000</td>\n",
              "      <td>0.000000</td>\n",
              "      <td>0.000000</td>\n",
              "    </tr>\n",
              "    <tr>\n",
              "      <th>50%</th>\n",
              "      <td>0.000000</td>\n",
              "      <td>0.000000</td>\n",
              "      <td>0.000000</td>\n",
              "      <td>0.000000</td>\n",
              "      <td>0.000000</td>\n",
              "      <td>0.000000</td>\n",
              "      <td>0.000000</td>\n",
              "      <td>0.000000</td>\n",
              "      <td>0.000000</td>\n",
              "      <td>0.000000</td>\n",
              "      <td>0.000000</td>\n",
              "      <td>1.000000</td>\n",
              "      <td>1.000000</td>\n",
              "    </tr>\n",
              "    <tr>\n",
              "      <th>75%</th>\n",
              "      <td>0.000000</td>\n",
              "      <td>0.000000</td>\n",
              "      <td>0.000000</td>\n",
              "      <td>1.000000</td>\n",
              "      <td>0.000000</td>\n",
              "      <td>0.000000</td>\n",
              "      <td>1.000000</td>\n",
              "      <td>0.000000</td>\n",
              "      <td>0.000000</td>\n",
              "      <td>0.000000</td>\n",
              "      <td>0.000000</td>\n",
              "      <td>1.000000</td>\n",
              "      <td>3.000000</td>\n",
              "    </tr>\n",
              "    <tr>\n",
              "      <th>max</th>\n",
              "      <td>1.000000</td>\n",
              "      <td>1.000000</td>\n",
              "      <td>7.000000</td>\n",
              "      <td>6.000000</td>\n",
              "      <td>7.000000</td>\n",
              "      <td>1.000000</td>\n",
              "      <td>1.000000</td>\n",
              "      <td>1.000000</td>\n",
              "      <td>1.000000</td>\n",
              "      <td>1.000000</td>\n",
              "      <td>17.000000</td>\n",
              "      <td>1.000000</td>\n",
              "      <td>122.000000</td>\n",
              "    </tr>\n",
              "  </tbody>\n",
              "</table>\n",
              "</div>"
            ],
            "text/plain": [
              "         @ in URLs  Attachments  ...       Phishy         URLs\n",
              "count  4534.000000  4534.000000  ...  4534.000000  4534.000000\n",
              "mean      0.000221     0.030216  ...     0.502426     3.734671\n",
              "std       0.014851     0.171200  ...     0.500049    10.728565\n",
              "min       0.000000     0.000000  ...     0.000000     0.000000\n",
              "25%       0.000000     0.000000  ...     0.000000     0.000000\n",
              "50%       0.000000     0.000000  ...     1.000000     1.000000\n",
              "75%       0.000000     0.000000  ...     1.000000     3.000000\n",
              "max       1.000000     1.000000  ...     1.000000   122.000000\n",
              "\n",
              "[8 rows x 13 columns]"
            ]
          },
          "metadata": {
            "tags": []
          },
          "execution_count": 12
        }
      ]
    },
    {
      "cell_type": "code",
      "metadata": {
        "id": "RZer__0oJvda",
        "outputId": "b1b0efa2-7157-4710-c3c0-8249b1e6a0b0",
        "colab": {
          "base_uri": "https://localhost:8080/",
          "height": 255
        }
      },
      "source": [
        "#looking for correlations\n",
        "corr_matrix = df_concat.corr()\n",
        "corr_matrix['Phishy'].sort_values(ascending=False)"
      ],
      "execution_count": 13,
      "outputs": [
        {
          "output_type": "execute_result",
          "data": {
            "text/plain": [
              "Phishy                1.000000\n",
              "HTML content          0.673593\n",
              "Encoding              0.410920\n",
              "IPs in URLs           0.257370\n",
              "URLs                  0.236831\n",
              "Attachments           0.175661\n",
              "Html Form             0.172413\n",
              "Css                   0.072601\n",
              "Javascript            0.057237\n",
              "External Resources    0.052764\n",
              "Html iFrame           0.025607\n",
              "Flash content         0.016662\n",
              "@ in URLs             0.014781\n",
              "Name: Phishy, dtype: float64"
            ]
          },
          "metadata": {
            "tags": []
          },
          "execution_count": 13
        }
      ]
    },
    {
      "cell_type": "code",
      "metadata": {
        "id": "wCZNpE1xMCkw",
        "outputId": "91b1e8c9-ba05-4bf5-8235-01dc0907dd88",
        "colab": {
          "base_uri": "https://localhost:8080/",
          "height": 790
        }
      },
      "source": [
        "import seaborn as sns\n",
        "plt.figure(figsize=(16,12))\n",
        "sns.heatmap(df_concat.corr(),annot=True,fmt='.2g',linewidths=.5,center=0)\n",
        "plt.show()"
      ],
      "execution_count": 14,
      "outputs": [
        {
          "output_type": "display_data",
          "data": {
            "image/png": "[encoded data removed]",
            "text/plain": [
              "<Figure size 1152x864 with 2 Axes>"
            ]
          },
          "metadata": {
            "tags": [],
            "needs_background": "light"
          }
        }
      ]
    },
    {
      "cell_type": "markdown",
      "metadata": {
        "id": "z7unY_cfNFfE"
      },
      "source": [
        "**Split the datasets in train and test so we can train our datasets and test with test datasets.**\n"
      ]
    },
    {
      "cell_type": "code",
      "metadata": {
        "id": "xqL5VJVRNBHc",
        "outputId": "74b0a450-2598-4d79-f836-c655937b6dea",
        "colab": {
          "base_uri": "https://localhost:8080/",
          "height": 119
        }
      },
      "source": [
        "from sklearn.model_selection import train_test_split\n",
        "from sklearn.metrics import accuracy_score\n",
        "trainX, testX, trainY, testY = train_test_split(X, y, test_size=0.2, random_state=42) # here 20% of datasets is for test #ramdom state keep our test dataset on similar format for whole processing\n",
        "print(f\"Rows in train set: {len(trainX)}\\nRows in test set: {len(testX)}\\n\")\n",
        "print(f\"Rows in train set: {len(trainY)}\\nRows in test set: {len(testY)}\\n\")\n"
      ],
      "execution_count": 15,
      "outputs": [
        {
          "output_type": "stream",
          "text": [
            "Rows in train set: 3627\n",
            "Rows in test set: 907\n",
            "\n",
            "Rows in train set: 3627\n",
            "Rows in test set: 907\n",
            "\n"
          ],
          "name": "stdout"
        }
      ]
    },
    {
      "cell_type": "markdown",
      "metadata": {
        "id": "gDuV1qkcOGuP"
      },
      "source": [
        "**Now use logistic regression and support vector classification to train our datasets and check accuracy with testdatasets**\n"
      ]
    },
    {
      "cell_type": "code",
      "metadata": {
        "id": "aG0Me3KuOazj"
      },
      "source": [
        "from sklearn.linear_model import LogisticRegression\n",
        "from sklearn.svm import SVC\n",
        "models = [\n",
        "          LogisticRegression(),\n",
        "          SVC()\n",
        "]"
      ],
      "execution_count": 16,
      "outputs": []
    },
    {
      "cell_type": "code",
      "metadata": {
        "id": "bTGORzcCOteT",
        "outputId": "b1a6797e-aa8a-4125-d981-f5b39bf8a6cb",
        "colab": {
          "base_uri": "https://localhost:8080/",
          "height": 51
        }
      },
      "source": [
        "model_names = ['LogisticRegression',\n",
        "                'SVC',\n",
        "]\n",
        "acc = []\n",
        "eval_acc={}\n",
        "for model in range(len(models)):\n",
        "  classification_model = models[model]\n",
        "  classification_model.fit(trainX,trainY)\n",
        "  pred = classification_model.predict(testX)\n",
        "  acc.append(accuracy_score(pred,testY))\n",
        "\n",
        "eval_acc = {'Modelling Algoritms': model_names , 'Accuracy': acc}\n",
        "eval_acc"
      ],
      "execution_count": 17,
      "outputs": [
        {
          "output_type": "execute_result",
          "data": {
            "text/plain": [
              "{'Accuracy': [0.8478500551267916, 0.8809261300992283],\n",
              " 'Modelling Algoritms': ['LogisticRegression', 'SVC']}"
            ]
          },
          "metadata": {
            "tags": []
          },
          "execution_count": 17
        }
      ]
    },
    {
      "cell_type": "code",
      "metadata": {
        "id": "E9GA-KuIPC6r",
        "outputId": "612205e5-715b-40a6-bfac-eee4bdd4934d",
        "colab": {
          "base_uri": "https://localhost:8080/",
          "height": 111
        }
      },
      "source": [
        "acc_table=pd.DataFrame(eval_acc)\n",
        "acc_table=acc_table.sort_values(by='Accuracy',ascending = [False])\n",
        "acc_table"
      ],
      "execution_count": 18,
      "outputs": [
        {
          "output_type": "execute_result",
          "data": {
            "text/html": [
              "<div>\n",
              "<style scoped>\n",
              "    .dataframe tbody tr th:only-of-type {\n",
              "        vertical-align: middle;\n",
              "    }\n",
              "\n",
              "    .dataframe tbody tr th {\n",
              "        vertical-align: top;\n",
              "    }\n",
              "\n",
              "    .dataframe thead th {\n",
              "        text-align: right;\n",
              "    }\n",
              "</style>\n",
              "<table border=\"1\" class=\"dataframe\">\n",
              "  <thead>\n",
              "    <tr style=\"text-align: right;\">\n",
              "      <th></th>\n",
              "      <th>Modelling Algoritms</th>\n",
              "      <th>Accuracy</th>\n",
              "    </tr>\n",
              "  </thead>\n",
              "  <tbody>\n",
              "    <tr>\n",
              "      <th>1</th>\n",
              "      <td>SVC</td>\n",
              "      <td>0.880926</td>\n",
              "    </tr>\n",
              "    <tr>\n",
              "      <th>0</th>\n",
              "      <td>LogisticRegression</td>\n",
              "      <td>0.847850</td>\n",
              "    </tr>\n",
              "  </tbody>\n",
              "</table>\n",
              "</div>"
            ],
            "text/plain": [
              "  Modelling Algoritms  Accuracy\n",
              "1                 SVC  0.880926\n",
              "0  LogisticRegression  0.847850"
            ]
          },
          "metadata": {
            "tags": []
          },
          "execution_count": 18
        }
      ]
    },
    {
      "cell_type": "code",
      "metadata": {
        "id": "d4G37K3xPJdF",
        "outputId": "d6819d9a-ee93-4ff4-91bd-e4ed34e7c1b4",
        "colab": {
          "base_uri": "https://localhost:8080/",
          "height": 279
        }
      },
      "source": [
        "sns.barplot(y='Modelling Algoritms',x='Accuracy',data= acc_table)\n",
        "plt.show()"
      ],
      "execution_count": 20,
      "outputs": [
        {
          "output_type": "display_data",
          "data": {
            "image/png": "[encoded data removed]",
            "text/plain": [
              "<Figure size 432x288 with 1 Axes>"
            ]
          },
          "metadata": {
            "tags": [],
            "needs_background": "light"
          }
        }
      ]
    },
    {
      "cell_type": "markdown",
      "metadata": {
        "id": "LwCCdyiRM3uZ"
      },
      "source": [
        "Going through this analysis can say that SVM algorithm is better in comparision to Logistic Regression.\n"
      ]
    }
  ]
}